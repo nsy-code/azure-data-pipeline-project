{
 "cells": [
  {
   "cell_type": "code",
   "execution_count": 0,
   "metadata": {
    "application/vnd.databricks.v1+cell": {
     "cellMetadata": {
      "byteLimit": 2048000,
      "rowLimit": 10000
     },
     "inputWidgets": {},
     "nuid": "d82e36c7-b63c-4d9f-809c-f768a901d13c",
     "showTitle": false,
     "tableResultSettingsMap": {},
     "title": ""
    }
   },
   "outputs": [
    {
     "data": {
      "text/plain": [
       "[]"
      ]
     },
     "execution_count": 5,
     "metadata": {},
     "output_type": "execute_result"
    }
   ],
   "source": [
    "dbutils.fs.ls('mnt/silver/SalesLT/')\n",
    "dbutils.fs.ls('mnt/gold/')"
   ]
  },
  {
   "cell_type": "markdown",
   "metadata": {
    "application/vnd.databricks.v1+cell": {
     "cellMetadata": {},
     "inputWidgets": {},
     "nuid": "31229a97-0e8a-4762-b813-ce4be06d774b",
     "showTitle": false,
     "tableResultSettingsMap": {},
     "title": ""
    }
   },
   "source": [
    "### Changing the column names"
   ]
  },
  {
   "cell_type": "code",
   "execution_count": 0,
   "metadata": {
    "application/vnd.databricks.v1+cell": {
     "cellMetadata": {
      "byteLimit": 2048000,
      "rowLimit": 10000
     },
     "inputWidgets": {},
     "nuid": "63c91e41-3f8e-40bb-ba7d-597f2a73fd16",
     "showTitle": false,
     "tableResultSettingsMap": {},
     "title": ""
    }
   },
   "outputs": [
    {
     "data": {
      "text/plain": [
       "['Address',\n",
       " 'Customer',\n",
       " 'CustomerAddress',\n",
       " 'Product',\n",
       " 'ProductCategory',\n",
       " 'ProductDescription',\n",
       " 'ProductModel',\n",
       " 'ProductModelProductDescription',\n",
       " 'SalesOrderDetail',\n",
       " 'SalesOrderHeader']"
      ]
     },
     "execution_count": 11,
     "metadata": {},
     "output_type": "execute_result"
    }
   ],
   "source": [
    "table_name=[]\n",
    "for i in dbutils.fs.ls('mnt/silver/SalesLT/'):\n",
    "  table_name.append(i.name.split('/')[0])\n",
    "\n",
    "table_name"
   ]
  },
  {
   "cell_type": "code",
   "execution_count": 0,
   "metadata": {
    "application/vnd.databricks.v1+cell": {
     "cellMetadata": {
      "byteLimit": 2048000,
      "rowLimit": 10000
     },
     "inputWidgets": {},
     "nuid": "1f483f55-fe98-4bea-ac03-93e60c122fe5",
     "showTitle": false,
     "tableResultSettingsMap": {},
     "title": ""
    }
   },
   "outputs": [
    {
     "name": "stdout",
     "output_type": "stream",
     "text": [
      "/mnt/silver/SalesLT/Address\n",
      "/mnt/silver/SalesLT/Customer\n",
      "/mnt/silver/SalesLT/CustomerAddress\n",
      "/mnt/silver/SalesLT/Product\n",
      "/mnt/silver/SalesLT/ProductCategory\n",
      "/mnt/silver/SalesLT/ProductDescription\n",
      "/mnt/silver/SalesLT/ProductModel\n",
      "/mnt/silver/SalesLT/ProductModelProductDescription\n",
      "/mnt/silver/SalesLT/SalesOrderDetail\n",
      "/mnt/silver/SalesLT/SalesOrderHeader\n"
     ]
    }
   ],
   "source": [
    "for name in table_name:\n",
    "  path = '/mnt/silver/SalesLT/' + name\n",
    "  print(path)\n",
    "  df = spark.read.format('delta').load(path)\n",
    "\n",
    "  column_names = df.columns\n",
    "\n",
    "  for old_col_name in column_names:\n",
    "    new_col_name = \"\".join([\"-\" + char if char.isupper() and not old_col_name[i - 1].isupper() else char for i, char in enumerate(old_col_name)]).lstrip(\"_\")\n",
    "\n",
    "    df = df.withColumnRenamed(old_col_name, new_col_name)\n",
    "  \n",
    "  output_path = '/mnt/gold/SalesLT/' + name +'/'\n",
    "  df.write.format('delta').mode('overwrite').save(output_path)"
   ]
  },
  {
   "cell_type": "code",
   "execution_count": 0,
   "metadata": {
    "application/vnd.databricks.v1+cell": {
     "cellMetadata": {},
     "inputWidgets": {},
     "nuid": "cdf41c67-3704-4176-9161-538a71a6e6d5",
     "showTitle": false,
     "tableResultSettingsMap": {},
     "title": ""
    }
   },
   "outputs": [],
   "source": []
  }
 ],
 "metadata": {
  "application/vnd.databricks.v1+notebook": {
   "dashboards": [],
   "environmentMetadata": {
    "base_environment": "",
    "client": "1"
   },
   "language": "python",
   "notebookMetadata": {
    "pythonIndentUnit": 2
   },
   "notebookName": "silver to gold",
   "widgets": {}
  },
  "language_info": {
   "name": "python"
  }
 },
 "nbformat": 4,
 "nbformat_minor": 0
}
